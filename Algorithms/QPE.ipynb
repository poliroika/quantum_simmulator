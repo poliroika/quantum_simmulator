{
  "cells": [
    {
      "cell_type": "markdown",
      "metadata": {
        "id": "jDjSsw2l2NT7"
      },
      "source": [
        "**Импорт Пакетов функций**\n",
        "\n"
      ]
    },
    {
      "cell_type": "code",
      "execution_count": 118,
      "metadata": {
        "cellView": "form",
        "id": "PnSah8NfcO9w"
      },
      "outputs": [],
      "source": [
        "#@title\n",
        "import numpy as np\n",
        "import math\n",
        "import cmath\n",
        "from functools import reduce\n",
        "from copy import deepcopy\n",
        "import matplotlib.pyplot as plt\n",
        "import numba as nb"
      ]
    },
    {
      "cell_type": "markdown",
      "metadata": {
        "id": "hach-7G3LF2H"
      },
      "source": [
        "**Функции квантовых гейтов**"
      ]
    },
    {
      "cell_type": "code",
      "execution_count": 133,
      "metadata": {
        "id": "nrqsYVjscShd"
      },
      "outputs": [],
      "source": [
        "#@title\n",
        "H = np.array([[1/math.sqrt(2),1/math.sqrt(2)],[1/math.sqrt(2),-1/math.sqrt(2)]], dtype = 'complex_')\n",
        "X = np.array([[0,1],[1,0]], dtype = 'complex_')\n",
        "I = np.array([[1,0],[0,1]], dtype = 'complex_')\n",
        "CNOT = np.array([[1,0,0,0],[0,1,0,0],[0,0,0,1],[0,0,1,0]], dtype = 'complex_')\n",
        "\n",
        "def UnitGate(q, matrix, q0):\n",
        "  qubit = deepcopy(q)\n",
        "  for i in range(len(qubit)):\n",
        "    if (i % (1<<(q0+1))) < (1<<(q0)):\n",
        "      r = 0\n",
        "    else:\n",
        "      r = 1\n",
        "    qubit[i] = q[i|(1<<q0)] * matrix[r][1] + q[(i|(1<<q0))^(1<<q0)] * matrix[r][0]\n",
        "  return qubit\n",
        "\n",
        "def UnitGatetwo(q,matrix,q1,q0):\n",
        "  qubit = deepcopy(q)\n",
        "  for i in range(len(q)):\n",
        "    if (i % (1<<(q0+1))) < (1<<(q0)):\n",
        "      r1 = 0\n",
        "    else:\n",
        "      r1 = 1\n",
        "    if (i %(1<<(q1+1))) < (1<<(q1)):\n",
        "      r2 = 0\n",
        "    else:\n",
        "      r2 = 1\n",
        "    qubit[i] = q[(i|(1<<q0))|(1<<q1)] * matrix[2*r2 +r1][3]  \\\n",
        "    + q[((i|(1<<q0))|(1<<q1))^(1<<q0)] * matrix[2*r2 +r1][2] \\\n",
        "    + q[((i|(1<<q0))|(1<<q1))^(1<<q1)] * matrix[2*r2 +r1][1] \\\n",
        "    + q[(((i|(1<<q0)|(1<<q1))^(1<<q1))^(1<<q0))] * matrix[2*r2 +r1][0]\n",
        "  return qubit\n",
        "\n",
        "# Перевод i кубита по счету в битовую запись размера n\n",
        "# Ввод (n) - количество кубит, (i) - номер кубита \n",
        "# вывод int запись бита\n",
        "def inttobit(n, i):\n",
        "    return list(map(int, list(format(i, \"0{0}b\".format(n)))))\n",
        "\n",
        "def powcomplex(complexmatrix):\n",
        "  return (complexmatrix * (complexmatrix.real - 1j*complexmatrix.imag)).real"
      ]
    },
    {
      "attachments": {},
      "cell_type": "markdown",
      "metadata": {
        "id": "zhZyC2bCMtb1"
      },
      "source": [
        "*QFT* "
      ]
    },
    {
      "cell_type": "code",
      "execution_count": 132,
      "metadata": {
        "id": "TmX72ty1133j"
      },
      "outputs": [],
      "source": [
        "#@title\n",
        "def CROT(n):\n",
        "  return np.array([[1,0,0,0],[0,1,0,0],[0,0,1,0],[0,0,0,cmath.exp((1j*cmath.pi)/2**(n-1))]])\n",
        "\n",
        "def CROTminus(n):\n",
        "  return np.array([[1,0,0,0],[0,1,0,0],[0,0,1,0],[0,0,0,cmath.exp((-1j*cmath.pi)/2**(n-1))]])  \n",
        "\n",
        "\n",
        "SWAP = np.array([[1,0,0,0],[0,0,1,0],[0,1,0,0],[0,0,0,1]], dtype = 'complex_')\n",
        "def SWAPQFT(qubit, n):\n",
        "  for i in range(n//2 ):\n",
        "    qubit = UnitGatetwo(qubit, SWAP, i, n-i-1)\n",
        "  return qubit\n",
        "\n",
        "def QFT1(qubit,n):\n",
        "  if n == 0:\n",
        "    return qubit\n",
        "  else:\n",
        "    qubit = UnitGate(qubit,H,n-1)\n",
        "    if n != 1:\n",
        "      for i in range(n-1):\n",
        "        qubit = UnitGatetwo(qubit, CROT(n-i),i ,n-1)\n",
        "    return QFT1(qubit,n-1)\n",
        "\n",
        "def QFT(qubit,n):\n",
        "  return(SWAPQFT(QFT1(qubit,n), n))\n",
        "\n",
        "\n",
        "def ff(qubit, n, k):\n",
        "  if k == n+1:\n",
        "    return qubit\n",
        "  else:\n",
        "    if k != 1:\n",
        "      for i in range(k-1):\n",
        "        qubit = UnitGatetwo(qubit, CROTminus(2+i),k-2-i ,k-1)\n",
        "    qubit = UnitGate(qubit,H,k-1)\n",
        "    return ff(qubit,n,k+1)\n",
        "\n",
        "\n",
        "def inversQFT(qubit,n):\n",
        "  return ff((SWAPQFT(qubit,n)),n,1)"
      ]
    },
    {
      "cell_type": "markdown",
      "metadata": {
        "id": "Uv4Ud5L5XQEq"
      },
      "source": [
        "**QPE**"
      ]
    },
    {
      "cell_type": "code",
      "execution_count": null,
      "metadata": {
        "id": "_mpAr9zVa5SZ"
      },
      "outputs": [],
      "source": [
        "def Pgate(alphaint):\n",
        "  return np.array([[1,0,0,0],[0,1,0,0],[0,0,1,0],[0,0,0,cmath.exp((1j* cmath.pi)/alphaint)]])\n",
        "\n",
        "def phase_cheat(qubit,alphaint,n):\n",
        "  cycle = 1\n",
        "  for i in range(n):\n",
        "    for j in range(cycle):\n",
        "      qubit = UnitGatetwo(qubit, Pgate(alphaint),i ,n)\n",
        "    cycle = 2 * cycle\n",
        "  return qubit"
      ]
    },
    {
      "cell_type": "markdown",
      "metadata": {
        "id": "ygJWNQW5_J0H"
      },
      "source": [
        "For T - operator\n",
        "\n",
        "output - the general phase of the operator"
      ]
    },
    {
      "cell_type": "code",
      "execution_count": 205,
      "metadata": {
        "colab": {
          "base_uri": "https://localhost:8080/"
        },
        "id": "FXwFtYL1XWQl",
        "outputId": "ccc709b3-72aa-4881-e53c-8052ca2d6d2b"
      },
      "outputs": [
        {
          "name": "stdout",
          "output_type": "stream",
          "text": [
            "5\n",
            "1.5\n",
            "11 / 32\n"
          ]
        }
      ],
      "source": [
        "n = int(input())\n",
        "q = np.zeros((2**(n+1)),dtype = 'complex_')\n",
        "q[1<<n] = 1\n",
        "for i in range((n)):\n",
        "  q = UnitGate(q,H, i)\n",
        "\n",
        "# exp(2 * i *pi \\theta ) - operator phase\n",
        "# exp(i*pi / phi )\n",
        "\n",
        "phi = float(input())\n",
        "q2 = phase_cheat(q, phi, n)\n",
        "q3 = powcomplex(inversQFT(q2,n))\n",
        "indexnonzero = np.argmax(q3)\n",
        "bit = (bin(indexnonzero)[3:])\n",
        "print(int(bit,2),'/',2**n)"
      ]
    }
  ],
  "metadata": {
    "colab": {
      "provenance": []
    },
    "kernelspec": {
      "display_name": "Python 3",
      "name": "python3"
    },
    "language_info": {
      "name": "python"
    }
  },
  "nbformat": 4,
  "nbformat_minor": 0
}
