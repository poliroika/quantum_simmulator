{
  "nbformat": 4,
  "nbformat_minor": 0,
  "metadata": {
    "colab": {
      "provenance": []
    },
    "kernelspec": {
      "name": "python3",
      "display_name": "Python 3"
    },
    "language_info": {
      "name": "python"
    }
  },
  "cells": [
    {
      "cell_type": "markdown",
      "source": [
        "\n",
        "Импорт пакетов\n",
        "\n"
      ],
      "metadata": {
        "id": "jDjSsw2l2NT7"
      }
    },
    {
      "cell_type": "code",
      "source": [
        "import numpy as np\n",
        "import math\n",
        "from functools import reduce\n",
        "from copy import deepcopy\n",
        "import matplotlib.pyplot as plt\n",
        "import numba as nb"
      ],
      "metadata": {
        "id": "PnSah8NfcO9w"
      },
      "execution_count": 42,
      "outputs": []
    },
    {
      "cell_type": "markdown",
      "source": [
        "Вентили "
      ],
      "metadata": {
        "id": "fMzpSKUT2S1d"
      }
    },
    {
      "cell_type": "code",
      "source": [
        "H = np.array([[1/math.sqrt(2),1/math.sqrt(2)],[1/math.sqrt(2),-1/math.sqrt(2)]])\n",
        "X = np.array([[0,1],[1,0]])\n",
        "I = np.array([[1,0],[0,1]])"
      ],
      "metadata": {
        "id": "nrqsYVjscShd"
      },
      "execution_count": 43,
      "outputs": []
    },
    {
      "cell_type": "code",
      "source": [
        "CNOT = np.array([[1,0,0,0],[0,1,0,0],[0,0,0,1],[0,0,1,0]])"
      ],
      "metadata": {
        "id": "CO3L1Rsk2R-o"
      },
      "execution_count": 44,
      "outputs": []
    },
    {
      "cell_type": "markdown",
      "source": [
        "Функция унитарного оператора действующего на 1 кубит"
      ],
      "metadata": {
        "id": "g9XWFrNb2WT-"
      }
    },
    {
      "cell_type": "code",
      "source": [
        "def UnitGate(q, matrix, q0):\n",
        "  qubit = deepcopy(q)\n",
        "  for i in range(len(qubit)):\n",
        "    if (i % (1<<(q0+1))) < (1<<(q0)):\n",
        "      r = 0\n",
        "    else:\n",
        "      r = 1\n",
        "    qubit[i] = q[i|(1<<q0)] * matrix[r][1] + q[(i|(1<<q0))^(1<<q0)] * matrix[r][0]\n",
        "  return qubit"
      ],
      "metadata": {
        "id": "7D1_zN-2c3Q3"
      },
      "execution_count": 344,
      "outputs": []
    },
    {
      "cell_type": "markdown",
      "source": [
        "Функция унитарного оператора действующего на 2 кубита"
      ],
      "metadata": {
        "id": "kYJiILqI3BrF"
      }
    },
    {
      "cell_type": "code",
      "source": [
        "def UnitGatetwo(q,matrix,q1,q0):\n",
        "  qubit = deepcopy(q)\n",
        "  for i in range(len(q)):\n",
        "    if (i % (1<<(q0+1))) < (1<<(q0)):\n",
        "      r1 = 0\n",
        "    else:\n",
        "      r1 = 1\n",
        "    if (i %(1<<(q1+1))) < (1<<(q1)):\n",
        "      r2 = 0\n",
        "    else:\n",
        "      r2 = 1\n",
        "    qubit[i] = q[(i|(1<<q0))|(1<<q1)] * matrix[2*r2 +r1][3]  \\\n",
        "    + q[((i|(1<<q0))|(1<<q1))^(1<<q0)] * matrix[2*r2 +r1][2] \\\n",
        "    + q[((i|(1<<q0))|(1<<q1))^(1<<q1)] * matrix[2*r2 +r1][1] \\\n",
        "    + q[(((i|(1<<q0)|(1<<q1))^(1<<q1))^(1<<q0))] * matrix[2*r2 +r1][0]\n",
        "  return qubit"
      ],
      "metadata": {
        "id": "9U8bcVhIQKeI"
      },
      "execution_count": 345,
      "outputs": []
    },
    {
      "cell_type": "markdown",
      "source": [
        "Вывод битовой строчки по числу"
      ],
      "metadata": {
        "id": "YErGyVdh3LHE"
      }
    },
    {
      "cell_type": "code",
      "source": [
        "# Перевод i кубита по счету в битовую запись размера n\n",
        "# Ввод (n) - количество кубит, (i) - номер кубита \n",
        "# вывод int запись бита\n",
        "def inttobit(n, i):\n",
        "    return list(map(int, list(format(i, \"0{0}b\".format(n)))))"
      ],
      "metadata": {
        "id": "w4wCjypEf6nW"
      },
      "execution_count": 346,
      "outputs": []
    },
    {
      "cell_type": "markdown",
      "source": [
        "Оракул константной функции"
      ],
      "metadata": {
        "id": "w8Qhwt_34rOS"
      }
    },
    {
      "cell_type": "code",
      "source": [
        "def constOracul(q,n):\n",
        "  randomconst = np.random.randint(2)\n",
        "  if randomconst == 1:\n",
        "    return UnitGate(q, X, n)\n",
        "  else:\n",
        "    return q"
      ],
      "metadata": {
        "id": "ac-lAt-lSNRL"
      },
      "execution_count": 316,
      "outputs": []
    },
    {
      "cell_type": "markdown",
      "source": [
        "Оракул сбалансированной функции"
      ],
      "metadata": {
        "id": "4FUwi-053r5v"
      }
    },
    {
      "cell_type": "code",
      "source": [
        "def balanceOracul(q,n):\n",
        "  randombalance = np.random.randint(1,2**n)\n",
        "  randombalancebit = inttobit(n, randombalance)\n",
        "  q2 = deepcopy(q)\n",
        "  for i in range(n):\n",
        "    if randombalancebit[i] == 1:\n",
        "      q2 = UnitGate(q2, X, i)\n",
        "  for j in range(n):\n",
        "    q2 = UnitGatetwo(q2,CNOT,j, n)\n",
        "  for i in range(n):\n",
        "    if randombalancebit[i] == 1:\n",
        "      q2 = UnitGate(q2, X, i)\n",
        "  return q2\n"
      ],
      "metadata": {
        "id": "mk3um8Y5fhSi"
      },
      "execution_count": 307,
      "outputs": []
    },
    {
      "cell_type": "markdown",
      "source": [
        "Ввод количества входных кубит"
      ],
      "metadata": {
        "id": "IkDLX9Cw3vvB"
      }
    },
    {
      "cell_type": "code",
      "source": [
        "n = int(input())\n",
        "q = np.zeros((2**(n+1)))\n",
        "q[1<<n] = 1"
      ],
      "metadata": {
        "colab": {
          "base_uri": "https://localhost:8080/"
        },
        "id": "gcjYy5alcV-r",
        "outputId": "027718c3-e02a-4cda-8222-9f848d042a31"
      },
      "execution_count": 347,
      "outputs": [
        {
          "name": "stdout",
          "output_type": "stream",
          "text": [
            "17\n"
          ]
        }
      ]
    },
    {
      "cell_type": "markdown",
      "source": [
        "Шаг блоков адамара"
      ],
      "metadata": {
        "id": "3CQTpJ5A399v"
      }
    },
    {
      "cell_type": "code",
      "source": [
        "for i in range(n+1):\n",
        "  q = UnitGate(q,H,i)"
      ],
      "metadata": {
        "id": "SDfAmxnTEzrm"
      },
      "execution_count": 348,
      "outputs": []
    },
    {
      "cell_type": "markdown",
      "source": [
        "Выбор одного из двух оракулов *constOracul* и *balanceOracul*"
      ],
      "metadata": {
        "id": "75-bWGP14FB-"
      }
    },
    {
      "cell_type": "code",
      "source": [
        "q = constOracul(q, n)"
      ],
      "metadata": {
        "id": "D3VSnwvskjgV"
      },
      "execution_count": 319,
      "outputs": []
    },
    {
      "cell_type": "code",
      "source": [
        "q = balanceOracul(q, n)"
      ],
      "metadata": {
        "id": "ne31w5ui0mVi"
      },
      "execution_count": 349,
      "outputs": []
    },
    {
      "cell_type": "markdown",
      "source": [
        "Шаг блоков адамара без последнего кубита"
      ],
      "metadata": {
        "id": "gWwYQxCr4Ss7"
      }
    },
    {
      "cell_type": "code",
      "source": [
        "for i in range(n):\n",
        "  q = UnitGate(q,H, i)"
      ],
      "metadata": {
        "id": "JXlUjMLvT_o7"
      },
      "execution_count": 350,
      "outputs": []
    },
    {
      "cell_type": "markdown",
      "source": [
        "Измерение"
      ],
      "metadata": {
        "id": "17hcNFfq4XrB"
      }
    },
    {
      "cell_type": "code",
      "source": [
        "q2 = q**2"
      ],
      "metadata": {
        "id": "i_rcktPbVWNb"
      },
      "execution_count": 351,
      "outputs": []
    },
    {
      "cell_type": "code",
      "source": [
        "indexnonzero = np.where(q2 > 0.001)\n",
        "print((bin(indexnonzero[0][0])[2:].zfill(n+1))[1:n+1])\n",
        "print((bin(indexnonzero[0][1])[2:].zfill(n+1))[1:n+1])"
      ],
      "metadata": {
        "colab": {
          "base_uri": "https://localhost:8080/"
        },
        "id": "36NLm1ZXUFAI",
        "outputId": "4f7518b7-68f3-4136-a9d3-fc08f8597a76"
      },
      "execution_count": 352,
      "outputs": [
        {
          "output_type": "stream",
          "name": "stdout",
          "text": [
            "11111111111111111\n",
            "11111111111111111\n"
          ]
        }
      ]
    },
    {
      "cell_type": "markdown",
      "source": [
        "Если все 0 => константная\n",
        "Если все 1 => сбалансированная"
      ],
      "metadata": {
        "id": "JGnatTTh4aGJ"
      }
    }
  ]
}