{
  "cells": [
    {
      "attachments": {},
      "cell_type": "markdown",
      "metadata": {
        "id": "jDjSsw2l2NT7"
      },
      "source": [
        "**Importing Function Packages**\n",
        "\n"
      ]
    },
    {
      "cell_type": "code",
      "execution_count": 1,
      "metadata": {
        "cellView": "form",
        "id": "PnSah8NfcO9w"
      },
      "outputs": [],
      "source": [
        "#@title\n",
        "import numpy as np\n",
        "import math\n",
        "import cmath\n",
        "from functools import reduce\n",
        "from copy import deepcopy\n",
        "import matplotlib.pyplot as plt\n",
        "import numba as nb"
      ]
    },
    {
      "attachments": {},
      "cell_type": "markdown",
      "metadata": {
        "id": "hach-7G3LF2H"
      },
      "source": [
        "**Functions of quantum gates**"
      ]
    },
    {
      "cell_type": "code",
      "execution_count": 2,
      "metadata": {
        "cellView": "form",
        "id": "nrqsYVjscShd"
      },
      "outputs": [],
      "source": [
        "#@title\n",
        "H = np.array([[1/math.sqrt(2),1/math.sqrt(2)],[1/math.sqrt(2),-1/math.sqrt(2)]], dtype = 'complex_')\n",
        "X = np.array([[0,1],[1,0]], dtype = 'complex_')\n",
        "I = np.array([[1,0],[0,1]], dtype = 'complex_')\n",
        "CNOT = np.array([[1,0,0,0],[0,1,0,0],[0,0,0,1],[0,0,1,0]], dtype = 'complex_')\n",
        "\n",
        "def UnitGate(q, matrix, q0):\n",
        "  qubit = deepcopy(q)\n",
        "  for i in range(len(qubit)):\n",
        "    if (i % (1<<(q0+1))) < (1<<(q0)):\n",
        "      r = 0\n",
        "    else:\n",
        "      r = 1\n",
        "    qubit[i] = q[i|(1<<q0)] * matrix[r][1] + q[(i|(1<<q0))^(1<<q0)] * matrix[r][0]\n",
        "  return qubit\n",
        "\n",
        "def UnitGatetwo(q,matrix,q1,q0):\n",
        "  qubit = deepcopy(q)\n",
        "  for i in range(len(q)):\n",
        "    if (i % (1<<(q0+1))) < (1<<(q0)):\n",
        "      r1 = 0\n",
        "    else:\n",
        "      r1 = 1\n",
        "    if (i %(1<<(q1+1))) < (1<<(q1)):\n",
        "      r2 = 0\n",
        "    else:\n",
        "      r2 = 1\n",
        "    qubit[i] = q[(i|(1<<q0))|(1<<q1)] * matrix[2*r2 +r1][3]  \\\n",
        "    + q[((i|(1<<q0))|(1<<q1))^(1<<q0)] * matrix[2*r2 +r1][2] \\\n",
        "    + q[((i|(1<<q0))|(1<<q1))^(1<<q1)] * matrix[2*r2 +r1][1] \\\n",
        "    + q[(((i|(1<<q0)|(1<<q1))^(1<<q1))^(1<<q0))] * matrix[2*r2 +r1][0]\n",
        "  return qubit\n",
        "\n",
        "def inttobit(n, i):\n",
        "    return list(map(int, list(format(i, \"0{0}b\".format(n)))))"
      ]
    },
    {
      "cell_type": "markdown",
      "metadata": {
        "id": "zhZyC2bCMtb1"
      },
      "source": [
        "**QFT** \n",
        "\n"
      ]
    },
    {
      "cell_type": "code",
      "execution_count": 95,
      "metadata": {
        "id": "TmX72ty1133j"
      },
      "outputs": [],
      "source": [
        "def CROT(n):\n",
        "  return np.array([[1,0,0,0],[0,1,0,0],[0,0,1,0],[0,0,0,cmath.exp((1j*cmath.pi)/2**(n-1))]])\n",
        "\n",
        "def CROTminus(n):\n",
        "  return np.array([[1,0,0,0],[0,1,0,0],[0,0,1,0],[0,0,0,cmath.exp((-1j*cmath.pi)/2**(n-1))]])  \n",
        "\n",
        "def powcomplex(complexmatrix):\n",
        "  return (complexmatrix * (complexmatrix.real - 1j*complexmatrix.imag)).real\n",
        "\n",
        "SWAP = CNOT = np.array([[1,0,0,0],[0,0,1,0],[0,1,0,0],[0,0,0,1]], dtype = 'complex_')\n",
        "def SWAPQFT(qubit, n):\n",
        "  for i in range(n//2 ):\n",
        "    qubit = UnitGatetwo(qubit, SWAP, i, n-i-1)\n",
        "  return qubit\n",
        "\n",
        "def QFT1(qubit,n):\n",
        "  if n == 0:\n",
        "    return qubit\n",
        "  else:\n",
        "    qubit = UnitGate(qubit,H,n-1)\n",
        "    if n != 1:\n",
        "      for i in range(n-1):\n",
        "        qubit = UnitGatetwo(qubit, CROT(n-i),i ,n-1)\n",
        "    return QFT1(qubit,n-1)\n",
        "\n",
        "def QFT(qubit,n):\n",
        "  return(SWAPQFT(QFT1(qubit,n), n))\n",
        "\n",
        "\n",
        "def ff(qubit, n, k):\n",
        "  if k == n+1:\n",
        "    return qubit\n",
        "  else:\n",
        "    if k != 1:\n",
        "      for i in range(k-1):\n",
        "        qubit = UnitGatetwo(qubit, CROTminus(2+i),k-2-i ,k-1)\n",
        "    qubit = UnitGate(qubit,H,k-1)\n",
        "    return ff(qubit,n,k+1)\n",
        "\n",
        "\n",
        "def inversQFT(qubit,n):\n",
        "  return ff((SWAPQFT(qubit,n)),n,1)"
      ]
    },
    {
      "cell_type": "code",
      "execution_count": 94,
      "metadata": {
        "colab": {
          "base_uri": "https://localhost:8080/"
        },
        "id": "xt6xBabo5xvb",
        "outputId": "cd2eda2b-dfaa-454d-c7d5-6455d3d342c8"
      },
      "outputs": [
        {
          "name": "stdout",
          "output_type": "stream",
          "text": [
            "2\n",
            "3\n",
            "[0.+0.j 0.+0.j 0.+0.j 1.+0.j]\n",
            "[ 5.000000e-01+0.j  -3.061617e-17-0.5j -5.000000e-01+0.j\n",
            "  3.061617e-17+0.5j]\n",
            "1\n",
            "2\n",
            "[0.+0.j 0.+0.j 0.+0.j 1.+0.j]\n"
          ]
        }
      ],
      "source": [
        "n = int(input())\n",
        "q = np.zeros((2**(n)),dtype = 'complex_')\n",
        "condition = int(input())\n",
        "q[condition] = 1\n",
        "print(q)\n",
        "qubitQFT = QFT(q,n)\n",
        "print(qubitQFT)\n",
        "print(inversQFT(qubitQFT,n))"
      ]
    }
  ],
  "metadata": {
    "colab": {
      "provenance": []
    },
    "kernelspec": {
      "display_name": "Python 3",
      "name": "python3"
    },
    "language_info": {
      "name": "python"
    }
  },
  "nbformat": 4,
  "nbformat_minor": 0
}
