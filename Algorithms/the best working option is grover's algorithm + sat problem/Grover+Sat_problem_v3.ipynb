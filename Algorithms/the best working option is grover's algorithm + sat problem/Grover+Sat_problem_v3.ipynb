{
  "nbformat": 4,
  "nbformat_minor": 0,
  "metadata": {
    "colab": {
      "provenance": []
    },
    "kernelspec": {
      "name": "python3",
      "display_name": "Python 3"
    },
    "language_info": {
      "name": "python"
    }
  },
  "cells": [
    {
      "cell_type": "code",
      "execution_count": 24,
      "metadata": {
        "id": "hDTvv1mru3Xx"
      },
      "outputs": [],
      "source": [
        "#@title\n",
        "import numpy as np\n",
        "import math\n",
        "import cmath\n",
        "from functools import reduce\n",
        "from copy import deepcopy\n",
        "import matplotlib.pyplot as plt\n",
        "import pandas as pd"
      ]
    },
    {
      "cell_type": "code",
      "source": [
        "#@title\n",
        "H = np.array([[1/math.sqrt(2),1/math.sqrt(2)],[1/math.sqrt(2),-1/math.sqrt(2)]], dtype = 'complex_')\n",
        "X = np.array([[0,1],[1,0]], dtype = 'complex_')\n",
        "I = np.array([[1,0],[0,1]], dtype = 'complex_')\n",
        "Z = np.array([[1,0],[0,-1]], dtype = 'complex_')\n",
        "T = np.array([[1,0],[0, cmath.exp((1j*cmath.pi)/4)]], dtype = 'complex_')\n",
        "T_ermit = np.array([[1,0],[0, cmath.exp((-1j*cmath.pi)/4)]], dtype = 'complex_')\n",
        "V = np.array([[1,0,0,0],[0,1,0,0],[0,0,(1+1j)/2,(1-1j)/2],[0,0,(1-1j)/2,(1+1j)/2]], dtype = 'complex_')\n",
        "V_ermit = np.array([[1,0,0,0],[0,1,0,0],[0,0,(1-1j)/2,(1+1j)/2],[0,0,(1+1j)/2,(1-1j)/2]], dtype = 'complex_')\n",
        "CNOT = np.array([[1,0,0,0],[0,1,0,0],[0,0,0,1],[0,0,1,0]], dtype = 'complex_')\n",
        "Zgate = np.array([[1,0,0,0],[0,1,0,0],[0,0,1,0],[0,0,0,-1]], dtype = 'complex_')\n",
        "Toffoli = np.array([[1, 0, 0, 0, 0, 0, 0, 0],\n",
        "           [0, 1, 0, 0, 0, 0, 0, 0],\n",
        "           [0, 0, 1, 0, 0, 0, 0, 0],\n",
        "           [0, 0, 0, 1, 0, 0, 0, 0],\n",
        "           [0, 0, 0, 0, 1, 0, 0, 0],\n",
        "           [0, 0, 0, 0, 0, 1, 0, 0],\n",
        "           [0, 0, 0, 0, 0, 0, 0, 1],\n",
        "           [0, 0, 0, 0, 0, 0, 1, 0]],dtype = 'complex_')\n",
        "\n",
        "\n",
        "\n",
        "\n",
        "def UnitGate(q, matrix, q0):\n",
        "  qubit = deepcopy(q)\n",
        "  q0 = q0-1\n",
        "  for i in range(len(qubit)):\n",
        "    if (i % (1<<(q0+1))) < (1<<(q0)):\n",
        "      r = 0\n",
        "    else:\n",
        "      r = 1\n",
        "    qubit[i] = q[i|(1<<q0)] * matrix[r][1] + q[(i|(1<<q0))^(1<<q0)] * matrix[r][0]\n",
        "  return qubit\n",
        "\n",
        "#if you need to impose some kind of control operation NOT ,\n",
        "# then you need to write (-) and the desired number. \n",
        "\n",
        "def UnitGatetwo(q,matrix,q1,q0):\n",
        "  qubit = deepcopy(q)\n",
        "  if q1 > 0:\n",
        "    q0 = q0-1\n",
        "    q1 = q1-1\n",
        "    for i in range(len(q)):\n",
        "      if (i % (1<<(q0+1))) < (1<<(q0)):\n",
        "        r1 = 0\n",
        "      else:\n",
        "        r1 = 1\n",
        "      if (i %(1<<(q1+1))) < (1<<(q1)):\n",
        "        r2 = 0\n",
        "      else:\n",
        "        r2 = 1\n",
        "      z = 2*r2 +r1\n",
        "      y = (i|(1<<q0))|(1<<q1)\n",
        "      qubit[i] = q[y] * matrix[z][3]  \\\n",
        "      + q[(y)^(1<<q0)] * matrix[z][2] \\\n",
        "      + q[(y)^(1<<q1)] * matrix[z][1] \\\n",
        "      + q[((y)^(1<<q1))^(1<<q0)] * matrix[z][0]\n",
        "  elif q1 <0:\n",
        "    q1 = -q1\n",
        "    qubit = UnitGate(qubit,X,q1)\n",
        "    qubit = UnitGatetwo(qubit,matrix,q1,q0)\n",
        "    qubit = UnitGate(qubit,X,q1)\n",
        "  else:\n",
        "    print('break q1 = 0')\n",
        "\n",
        "  return qubit\n",
        "\n",
        "def UnitGatethree(qubit, matrix, q2, q1, q0):\n",
        "    q = deepcopy(qubit)\n",
        "    if q2 > 0 and q1 > 0:\n",
        "      q0 = q0 - 1\n",
        "      q2 = q2 - 1\n",
        "      q1 = q1 - 1\n",
        "      for i in range(len(q)):\n",
        "          if (i % (1 << (q0 + 1))) < (1 << q0):\n",
        "              r1 = 0\n",
        "          else:\n",
        "              r1 = 1\n",
        "          if (i % (1 << (q1 + 1))) < (1 << q1):\n",
        "              r2 = 0\n",
        "          else:\n",
        "              r2 = 1\n",
        "          if (i % (1 << (q2 + 1))) < (1 << q2):\n",
        "              r3 = 0\n",
        "          else:\n",
        "              r3 = 1\n",
        "          z = 4*r3+2*r2+r1\n",
        "          y =(i|(1<<q0))|(1<<q1)|(1<<q2)\n",
        "          q[i] = qubit[y]*matrix[z][7] \\\n",
        "          + qubit[(y)^(1<<q0)]*matrix[z][6] \\\n",
        "          + qubit[(y)^(1<<q1)]*matrix[z][5] \\\n",
        "          + qubit[(y)^(1<<q0)^(1<<q1)]*matrix[z][4] \\\n",
        "          + qubit[(y)^(1<<q2)]*matrix[z][3] \\\n",
        "          + qubit[(y)^(1<<q0)^(1<<q2)]*matrix[z][2] \\\n",
        "          + qubit[(y)^(1<<q1)^(1<<q2)]*matrix[z][1] \\\n",
        "          + qubit[(y)^(1<<q1)^(1<<q2)^(1<<q0)]*matrix[z][0]\n",
        "    elif q2 < 0:\n",
        "      q2 = -q2\n",
        "      q = UnitGate(q,X,q2)\n",
        "      q = UnitGatethree(q,matrix, q2,q1,q0)\n",
        "      q = UnitGate(q,X,q2)\n",
        "    elif q1 < 0:\n",
        "      q1 = -q1\n",
        "      q = UnitGate(q,X,q1)\n",
        "      q = UnitGatethree(q,matrix, q2, q1,q0)\n",
        "      q = UnitGate(q,X,q1)\n",
        "    else:\n",
        "      print('break q1 = 0')\n",
        "\n",
        "    return q\n",
        "\n",
        "# Translation of the i qubit by count into a bit record of size n\n",
        "# Input (n) is the number of qubits, (i) is the number of qubits \n",
        "# int output bit entry\n",
        "def inttobit(n, i):\n",
        "  return list(map(int, list(format(i, \"0{0}b\".format(n)))))\n",
        "\n",
        "def powcomplex(complexmatrix):\n",
        "  return (complexmatrix * (complexmatrix.real - 1j*complexmatrix.imag)).real"
      ],
      "metadata": {
        "id": "X_on9ivXwHQh"
      },
      "execution_count": 6,
      "outputs": []
    },
    {
      "cell_type": "code",
      "source": [
        "#@title\n",
        "#qubit - the entire qubit vector\n",
        "#maxdop- the maximum number of additional qubits required to implement an n-gate operation\n",
        "##nstart - the number of qubits without additional\n",
        "#N - how many qubit operation, for toffoli = 3, for CNOT = 2\n",
        "#matrix - controlled matrix\n",
        "#*args - all arguments that are affected, the last controlled\n",
        "def CnNOT(qubit,maxdop,nstart,N,matrix,*args):\n",
        "  qubit = UnitGatethree(qubit,Toffoli,args[0],args[1],nstart+1)\n",
        "  for i in range(N-3):\n",
        "    qubit = UnitGatethree(qubit,Toffoli,args[2+i],nstart+1+i,nstart+i+2)\n",
        "  qubit = UnitGatetwo(qubit,matrix,nstart+maxdop,args[-1])\n",
        "  for i in range((N-2),1,-1):\n",
        "    qubit = UnitGatethree(qubit,Toffoli,args[i],nstart+i-1,nstart+i)\n",
        "  qubit = UnitGatethree(qubit,Toffoli,args[0],args[1],nstart+1)\n",
        "  return qubit  "
      ],
      "metadata": {
        "id": "XJgb0awT9ecL"
      },
      "execution_count": 3,
      "outputs": []
    },
    {
      "cell_type": "markdown",
      "source": [
        "**Grover's algorithm**"
      ],
      "metadata": {
        "id": "oi6ZyufZrb8F"
      }
    },
    {
      "cell_type": "code",
      "source": [
        "#@title\n",
        "#qubit - начальные кубиты\n",
        "#iter - число итераций\n",
        "#n - начальное количество кубит\n",
        "#step - количество шагов\n",
        "#*args - несколько списков вида(1, 2, -3), где нет последнего контролируемого кубита\n",
        "def oraclsatproblem(qubit,n,step, *args):\n",
        "  for i in range(step):\n",
        "    if len(args[i]) == 1:\n",
        "      qubit = UnitGatetwo(qubit,CNOT,args[i][0], n+i+1)\n",
        "    elif len(args[i]) == 2:\n",
        "      qubit = UnitGatethree(qubit,Toffoli, args[i][0], args[i][1], n+i+1)\n",
        "    else:\n",
        "      qubit = CnNOT(qubit,len(args[i])-1,n+1+step,len(args[i])+1,CNOT,*args[i],n+i+1)\n",
        "\n",
        "  if step == 1:\n",
        "    qubit = UnitGatetwo(qubit,CNOT,-(n+1),n+step+1)\n",
        "  elif step == 2:\n",
        "    qubit = UnitGatethree(qubit,Toffoli,-(n+1),-(n+2),n+step+1)\n",
        "  else:\n",
        "    qubit = CnNOT(qubit,step-1,n+step+1,step+1,CNOT,*[-(i+1) for i in range(n,n+step)],n+step+1)\n",
        "  for i in range(step-1,-1,-1):\n",
        "    if len(args[i]) == 1:\n",
        "      qubit = UnitGatetwo(qubit,CNOT,args[i][0], n+i+1)\n",
        "    elif len(args[i]) == 2:\n",
        "      qubit = UnitGatethree(qubit,Toffoli, args[i][0], args[i][1], n+i+1)\n",
        "    else:\n",
        "      qubit = CnNOT(qubit,len(args[i])-1,n+1+step,len(args[i])+1,CNOT,*args[i],n+i+1)\n",
        "  return qubit\n",
        "\n",
        "def musor(qubit,n,step, *args):\n",
        "  for i in range(step):\n",
        "    if len(args[i]) == 1:\n",
        "      qubit = UnitGatetwo(qubit,CNOT,args[i][0], n+i+1)\n",
        "    elif len(args[i]) == 2:\n",
        "      qubit = UnitGatethree(qubit,Toffoli, args[i][0], args[i][1], n+i+1)\n",
        "    else:\n",
        "      qubit = CnNOT(qubit,len(args[i])-1,n+1+step,len(args[i])+1,CNOT,*args[i],n+i+1)\n",
        "\n",
        "  if step == 1:\n",
        "    qubit = UnitGatetwo(qubit,CNOT,-(n+1),n+step+1)\n",
        "  elif step == 2:\n",
        "    qubit = UnitGatethree(qubit,Toffoli,-(n+1),-(n+2),n+step+1)\n",
        "  else:\n",
        "    qubit = CnNOT(qubit,step-1,n+step+1,step+1,CNOT,*[-(i+1) for i in range(n,n+step)],n+step+1)\n",
        "  return qubit\n",
        "\n",
        "def diffuzer(qubit,n,contrqubit):\n",
        "  if n == 2:\n",
        "    qubit = UnitGate(qubit,H,1)\n",
        "    qubit = UnitGate(qubit,H,2)\n",
        "    qubit = UnitGatethree(qubit,Toffoli,-1,-2,contrqubit)\n",
        "    qubit = UnitGate(qubit,H,1)\n",
        "    qubit = UnitGate(qubit,H,2)\n",
        "  if n >= 3:\n",
        "    for j in range(n):\n",
        "      qubit = UnitGate(qubit,H,j+1)\n",
        "    qubit = CnNOT(qubit,n-2,n+step+1,n+1,CNOT,*[-(i+1) for i in range(n)],contrqubit)\n",
        "    for j in range(n):\n",
        "      qubit = UnitGate(qubit,H,j+1)\n",
        "  return qubit\n",
        "\n",
        "def Groversonecirc(q,iter,n,step, *args):\n",
        "  q = UnitGate(q,X,n+step+1)\n",
        "  q = UnitGate(q,H,n+step+1)\n",
        "  for i in range(n):\n",
        "    q = UnitGate(q,H,i+1)\n",
        "  for i in range(iter):\n",
        "    q = oraclsatproblem(q,n,step, *args)\n",
        "    q = diffuzer(q,n,n+step+1)\n",
        "  q = musor(q,n,step, *args)\n",
        "  return q"
      ],
      "metadata": {
        "id": "bsvfl1gwre_-",
        "cellView": "form"
      },
      "execution_count": 4,
      "outputs": []
    },
    {
      "cell_type": "markdown",
      "source": [
        "The SAT problem\n",
        "\n",
        "n is the number of initial qubits (the number of variables in the sat problem)\n",
        "\n",
        "step - number of steps \n",
        "\n",
        "maxstep is the largest gate (the number of qubits participating in this gate)\n",
        "\n",
        "Set the steps in the code itself!\n",
        "\n",
        "P.s since the number of answers to the solutions is unknown in the sat problem, an additional qubit is introduced to consider the limiting case at M< (2^n)/2, therefore, when calculating the maximum step, it should also be taken into account"
      ],
      "metadata": {
        "id": "CMWhK8OhROFA"
      }
    },
    {
      "cell_type": "markdown",
      "source": [
        "Example 1:\n",
        "\n",
        "3 variables : x1 x2 x3\n",
        "\n",
        "(x1 or x2) and (not x2)\n",
        "\n",
        "One iteration of oracle + diffuser\n",
        "\n",
        "https://algassert.com/quirk#circuit={%22cols%22:[[1,1,1,1,1,1,%22X%22],[1,1,1,1,1,1,%22H%22],[%22Chance3%22],[%22H%22,%22H%22,%22H%22,%22H%22],[1,1,1,1,1,1,%22Bloch%22],[%22%E2%97%A6%22,%22%E2%97%A6%22,1,1,%22X%22],[%22%E2%80%A2%22,1,1,1,1,%22X%22],[1,1,1,1,%22%E2%97%A6%22,%22%E2%97%A6%22,%22X%22],[1,%22%E2%80%A2%22,1,1,1,%22X%22],[%22%E2%97%A6%22,%22%E2%97%A6%22,1,1,%22X%22],[%22Chance%22,%22Chance%22,%22Chance%22,%22Chance%22,%22Chance%22,%22Chance%22],[%22H%22,%22H%22,%22H%22,%22H%22],[%22%E2%97%A6%22,%22%E2%97%A6%22,%22%E2%97%A6%22,%22%E2%97%A6%22,1,1,%22X%22],[%22H%22,%22H%22,%22H%22,%22H%22],[%22Chance3%22,1,1,1,1,1,%22Bloch%22]]}\n",
        "\n",
        "n = 3\n",
        "\n",
        "step = 2\n",
        "\n",
        "maxstep = 5\n",
        "\n",
        "Should be : 100 and 101"
      ],
      "metadata": {
        "id": "7tQ2woXdine_"
      }
    },
    {
      "cell_type": "code",
      "source": [
        "n = int(input())\n",
        "n=n+1\n",
        "step = int(input())\n",
        "maxstep = int(input())\n",
        "iter = round(math.pi /4 * math.sqrt((2*2**n)))\n",
        "q = np.zeros((2**(n+step+maxstep-1)), dtype = 'complex_')\n",
        "q[0] = 1\n",
        "l1 = [-1,-2]\n",
        "l2 = [2]\n",
        "q = Groversonecirc(q,iter,n,step, l1,l2)\n",
        "pow1 = powcomplex(q)\n",
        "pow2 = np.where(pow1 > 0.1)\n",
        "pow3 = pow2[0]\n",
        "for i in range(len(pow3)):\n",
        "  print((inttobit(n+step+1+maxstep-2,pow3[i]))[:maxstep-2+step+1:-1])"
      ],
      "metadata": {
        "id": "h3Qb1_BGW-je",
        "colab": {
          "base_uri": "https://localhost:8080/"
        },
        "outputId": "ee6a6436-06bc-42dc-97f3-4c47d601f358"
      },
      "execution_count": 85,
      "outputs": [
        {
          "output_type": "stream",
          "name": "stdout",
          "text": [
            "3\n",
            "2\n",
            "5\n",
            "[1, 0, 0]\n",
            "[1, 0, 1]\n",
            "[1, 0, 0]\n",
            "[1, 0, 1]\n",
            "[1, 0, 0]\n",
            "[1, 0, 1]\n",
            "[1, 0, 0]\n",
            "[1, 0, 1]\n"
          ]
        }
      ]
    },
    {
      "cell_type": "code",
      "source": [
        "pow2 = np.where(pow1 > 0.01)\n",
        "pow3 = pow2[0]\n",
        "a = []\n",
        "for i in range(len(pow3)):\n",
        "  a.append((inttobit(n+step+1+maxstep-2,pow3[i]))[:maxstep-2+step+1:-1])\n",
        "numbers = a\n",
        "\n",
        "def get_unique_numbers(numbers):\n",
        "    unique = []\n",
        "    for number in numbers:\n",
        "        if number not in unique:\n",
        "            unique.append(number)\n",
        "    return unique\n",
        "get_unique_numbers(numbers)"
      ],
      "metadata": {
        "colab": {
          "base_uri": "https://localhost:8080/"
        },
        "id": "SUEzqp6BgOCL",
        "outputId": "de629bf5-3c45-45a8-c986-b1ae0217b0c5"
      },
      "execution_count": 84,
      "outputs": [
        {
          "output_type": "execute_result",
          "data": {
            "text/plain": [
              "[[1, 0, 0], [1, 0, 1]]"
            ]
          },
          "metadata": {},
          "execution_count": 84
        }
      ]
    },
    {
      "cell_type": "markdown",
      "source": [
        "Example 2\n",
        "\n",
        "((((not x1) or (not x3) or (not x4)) and (x2 or x3 or (not x4)) and (x1 or (not x2) or x4) and ((not x1) or x2 or (not x3))\n",
        "\n",
        "One iteration: Oracle + Diffuser\n",
        "\n",
        "https://algassert.com/quirk#circuit={%22cols%22:[[%22H%22,%22H%22,%22H%22,%22H%22,%22H%22,1,1,1,1,%22X%22],[1,1,1,1,1,1,1,1,1,%22H%22],[%22%E2%80%A2%22,1,%22%E2%80%A2%22,%22%E2%80%A2%22,1,%22X%22],[1,%22%E2%97%A6%22,%22%E2%97%A6%22,%22%E2%80%A2%22,1,1,%22X%22],[%22%E2%97%A6%22,%22%E2%80%A2%22,1,%22%E2%97%A6%22,1,1,1,%22X%22],[%22%E2%80%A2%22,%22%E2%97%A6%22,%22%E2%80%A2%22,1,1,1,1,1,%22X%22],[1,1,1,1,1,%22%E2%97%A6%22,%22%E2%97%A6%22,%22%E2%97%A6%22,%22%E2%97%A6%22,%22X%22],[%22Chance%22,%22Chance%22,%22Chance%22,%22Chance%22,%22Chance%22,1,1,1,1,%22Chance%22],[%22%E2%80%A2%22,%22%E2%97%A6%22,%22%E2%80%A2%22,1,1,1,1,1,%22X%22],[%22%E2%97%A6%22,%22%E2%80%A2%22,1,%22%E2%97%A6%22,1,1,1,%22X%22],[1,%22%E2%97%A6%22,%22%E2%97%A6%22,%22%E2%80%A2%22,1,1,%22X%22],[%22%E2%80%A2%22,1,%22%E2%80%A2%22,%22%E2%80%A2%22,1,%22X%22],[%22H%22,%22H%22,%22H%22,%22H%22,%22H%22],[%22%E2%97%A6%22,%22%E2%97%A6%22,%22%E2%97%A6%22,%22%E2%97%A6%22,%22%E2%97%A6%22,1,1,1,1,%22X%22],[%22H%22,%22H%22,%22H%22,%22H%22,%22H%22]]}\n",
        "\n",
        "n = 4 \n",
        "\n",
        "step = 4\n",
        "\n",
        " maxstep = 6\n",
        "\n",
        "Must be :\n",
        "\n",
        "0000; 0010; 0011; 0101; 0111; 1000; 1010; 1100; 1101; 1110"
      ],
      "metadata": {
        "id": "oozkg09fi7Y4"
      }
    },
    {
      "cell_type": "code",
      "source": [
        "n = int(input())\n",
        "n = n+1\n",
        "step = int(input())\n",
        "maxstep = int(input())\n",
        "iter = round(math.pi /4 * math.sqrt((2*2**n)))\n",
        "q = np.zeros((2**(n+step+maxstep-1)), dtype = 'complex_')\n",
        "q[0] = 1\n",
        "l1 = [1,3,4]\n",
        "l2 = [-2,-3,4]\n",
        "l3 = [-1,2,-4]\n",
        "l4 = [1,-2,3]\n",
        "q = Groversonecirc(q,iter,n,step, l1,l2,l3,l4)\n",
        "pow1 = powcomplex(q)\n",
        "pow2 = np.where(pow1 > 0.03)\n",
        "pow3 = pow2[0]\n",
        "for i in range(len(pow3)):\n",
        "  print((inttobit(n+step+1+maxstep-2,pow3[i]))[:maxstep-2+step+1:-1])"
      ],
      "metadata": {
        "id": "snPZZRk00eo-",
        "colab": {
          "base_uri": "https://localhost:8080/"
        },
        "outputId": "8bed4581-665e-421e-88f2-99f258c6c9db"
      },
      "execution_count": 86,
      "outputs": [
        {
          "name": "stdout",
          "output_type": "stream",
          "text": [
            "4\n",
            "4\n",
            "6\n"
          ]
        }
      ]
    },
    {
      "cell_type": "code",
      "source": [
        "pow2 = np.where(pow1 > 0.005)\n",
        "pow3 = pow2[0]\n",
        "a = []\n",
        "for i in range(len(pow3)):\n",
        "  a.append((inttobit(n+step+1+maxstep-2,pow3[i]))[:maxstep-2+step+1:-1])\n",
        "numbers = a\n",
        "\n",
        "def get_unique_numbers(numbers):\n",
        "    unique = []\n",
        "    for number in numbers:\n",
        "        if number not in unique:\n",
        "            unique.append(number)\n",
        "    return unique\n",
        "get_unique_numbers(numbers)"
      ],
      "metadata": {
        "colab": {
          "base_uri": "https://localhost:8080/"
        },
        "id": "CzUpFKWm2V0p",
        "outputId": "4ea11f4d-8147-460b-b63d-ae06fff466ff"
      },
      "execution_count": 87,
      "outputs": [
        {
          "output_type": "execute_result",
          "data": {
            "text/plain": [
              "[[0, 0, 0, 0],\n",
              " [1, 0, 0, 0],\n",
              " [1, 1, 0, 0],\n",
              " [0, 0, 1, 0],\n",
              " [1, 1, 1, 0],\n",
              " [0, 1, 0, 1],\n",
              " [1, 1, 0, 1],\n",
              " [0, 0, 1, 1],\n",
              " [0, 1, 1, 1]]"
            ]
          },
          "metadata": {},
          "execution_count": 87
        }
      ]
    },
    {
      "cell_type": "markdown",
      "source": [
        "Checking 1 and 2 examples"
      ],
      "metadata": {
        "id": "85DaM7JVnynk"
      }
    },
    {
      "cell_type": "code",
      "source": [
        "for x1 in range(2):\n",
        "  for x2 in range(2):\n",
        "    for x3 in range(2):\n",
        "      if ((x1 or x2) and (not x2)) == 1:\n",
        "        print(x1,x2,x3)"
      ],
      "metadata": {
        "colab": {
          "base_uri": "https://localhost:8080/"
        },
        "id": "qrJWJDyl3eQf",
        "outputId": "3705aa83-0da7-46b5-da29-894aed1a920e"
      },
      "execution_count": null,
      "outputs": [
        {
          "output_type": "stream",
          "name": "stdout",
          "text": [
            "1 0 0\n",
            "1 0 1\n"
          ]
        }
      ]
    },
    {
      "cell_type": "code",
      "source": [
        "for x1 in range(2):\n",
        "  for x2 in range(2):\n",
        "    for x3 in range(2):\n",
        "      for x4 in range(2):\n",
        "        if (((not x1) or (not x3) or (not x4)) and (x2 or x3 or (not x4)) and (x1 or (not x2) or x4) and ((not x1) or x2 or (not x3))) == 1:\n",
        "          print(x1,x2,x3,x4)"
      ],
      "metadata": {
        "colab": {
          "base_uri": "https://localhost:8080/"
        },
        "id": "MMgEYvMQ0O1_",
        "outputId": "6eec3e2a-57cd-4757-a342-d9aa4cccd633"
      },
      "execution_count": null,
      "outputs": [
        {
          "output_type": "stream",
          "name": "stdout",
          "text": [
            "0 0 0 0\n",
            "0 0 1 0\n",
            "0 0 1 1\n",
            "0 1 0 1\n",
            "0 1 1 1\n",
            "1 0 0 0\n",
            "1 1 0 0\n",
            "1 1 0 1\n",
            "1 1 1 0\n"
          ]
        }
      ]
    }
  ]
}