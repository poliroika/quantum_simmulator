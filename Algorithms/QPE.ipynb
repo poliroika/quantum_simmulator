{
  "cells": [
    {
      "cell_type": "markdown",
      "metadata": {
        "id": "jDjSsw2l2NT7"
      },
      "source": [
        "**Импорт Пакетов функций**\n",
        "\n"
      ]
    },
    {
      "cell_type": "code",
      "execution_count": 1,
      "metadata": {
        "cellView": "form",
        "id": "PnSah8NfcO9w"
      },
      "outputs": [
        {
          "ename": "ModuleNotFoundError",
          "evalue": "No module named 'numpy'",
          "output_type": "error",
          "traceback": [
            "\u001b[1;31m---------------------------------------------------------------------------\u001b[0m",
            "\u001b[1;31mModuleNotFoundError\u001b[0m                       Traceback (most recent call last)",
            "Cell \u001b[1;32mIn[1], line 2\u001b[0m\n\u001b[0;32m      1\u001b[0m \u001b[39m#@title\u001b[39;00m\n\u001b[1;32m----> 2\u001b[0m \u001b[39mimport\u001b[39;00m \u001b[39mnumpy\u001b[39;00m \u001b[39mas\u001b[39;00m \u001b[39mnp\u001b[39;00m\n\u001b[0;32m      3\u001b[0m \u001b[39mimport\u001b[39;00m \u001b[39mmath\u001b[39;00m\n\u001b[0;32m      4\u001b[0m \u001b[39mimport\u001b[39;00m \u001b[39mcmath\u001b[39;00m\n",
            "\u001b[1;31mModuleNotFoundError\u001b[0m: No module named 'numpy'"
          ]
        }
      ],
      "source": [
        "#@title\n",
        "import numpy as np\n",
        "import math\n",
        "import cmath\n",
        "from functools import reduce\n",
        "from copy import deepcopy\n",
        "import matplotlib.pyplot as plt\n",
        "import numba as nb"
      ]
    },
    {
      "cell_type": "markdown",
      "metadata": {
        "id": "hach-7G3LF2H"
      },
      "source": [
        "**Функции квантовых гейтов**"
      ]
    },
    {
      "cell_type": "code",
      "execution_count": 26,
      "metadata": {
        "cellView": "form",
        "id": "nrqsYVjscShd"
      },
      "outputs": [],
      "source": [
        "#@title\n",
        "H = np.array([[1/math.sqrt(2),1/math.sqrt(2)],[1/math.sqrt(2),-1/math.sqrt(2)]], dtype = 'complex_')\n",
        "X = np.array([[0,1],[1,0]], dtype = 'complex_')\n",
        "I = np.array([[1,0],[0,1]], dtype = 'complex_')\n",
        "T = np.array([[1,0],[0, cmath.exp((1j*cmath.pi)/4)]], dtype = 'complex_')\n",
        "T_ermit = np.array([[1,0],[0, cmath.exp((-1j*cmath.pi)/4)]], dtype = 'complex_')\n",
        "V = np.array([[1,0,0,0],[0,1,0,0],[0,0,(1+1j)/2,(1-1j)/2],[0,0,(1-1j)/2,(1+1j)/2]], dtype = 'complex_')\n",
        "V_ermit = np.array([[1,0,0,0],[0,1,0,0],[0,0,(1-1j)/2,(1+1j)/2],[0,0,(1+1j)/2,(1-1j)/2]], dtype = 'complex_')\n",
        "CNOT = np.array([[1,0,0,0],[0,1,0,0],[0,0,0,1],[0,0,1,0]], dtype = 'complex_')\n",
        "Zgate = np.array([[1,0,0,0],[0,1,0,0],[0,0,1,0],[0,0,0,-1]], dtype = 'complex_')\n",
        "Toffoli = np.array([[1, 0, 0, 0, 0, 0, 0, 0],\n",
        "           [0, 1, 0, 0, 0, 0, 0, 0],\n",
        "           [0, 0, 1, 0, 0, 0, 0, 0],\n",
        "           [0, 0, 0, 1, 0, 0, 0, 0],\n",
        "           [0, 0, 0, 0, 1, 0, 0, 0],\n",
        "           [0, 0, 0, 0, 0, 1, 0, 0],\n",
        "           [0, 0, 0, 0, 0, 0, 0, 1],\n",
        "           [0, 0, 0, 0, 0, 0, 1, 0]],dtype = 'complex_')\n",
        "\n",
        "\n",
        "\n",
        "\n",
        "def UnitGate(q, matrix, q0):\n",
        "  qubit = deepcopy(q)\n",
        "  for i in range(len(qubit)):\n",
        "    if (i % (1<<(q0+1))) < (1<<(q0)):\n",
        "      r = 0\n",
        "    else:\n",
        "      r = 1\n",
        "    qubit[i] = q[i|(1<<q0)] * matrix[r][1] + q[(i|(1<<q0))^(1<<q0)] * matrix[r][0]\n",
        "  return qubit\n",
        "\n",
        "#if you need to impose some kind of control operation NOT ,\n",
        "# then you need to write (-) and the desired number. If it is 0, you need to\n",
        "# write the same number in place of the control qubit as the controlled one\n",
        "\n",
        "def UnitGatetwo(q,matrix,q1,q0):\n",
        "  qubit = deepcopy(q)\n",
        "  if q1 >= 0 and q1 != q0:\n",
        "    for i in range(len(q)):\n",
        "      if (i % (1<<(q0+1))) < (1<<(q0)):\n",
        "        r1 = 0\n",
        "      else:\n",
        "        r1 = 1\n",
        "      if (i %(1<<(q1+1))) < (1<<(q1)):\n",
        "        r2 = 0\n",
        "      else:\n",
        "        r2 = 1\n",
        "      qubit[i] = q[(i|(1<<q0))|(1<<q1)] * matrix[2*r2 +r1][3]  \\\n",
        "      + q[((i|(1<<q0))|(1<<q1))^(1<<q0)] * matrix[2*r2 +r1][2] \\\n",
        "      + q[((i|(1<<q0))|(1<<q1))^(1<<q1)] * matrix[2*r2 +r1][1] \\\n",
        "      + q[(((i|(1<<q0)|(1<<q1))^(1<<q1))^(1<<q0))] * matrix[2*r2 +r1][0]\n",
        "  elif q1 == q0:\n",
        "    qubit = UnitGate(qubit,X,0)\n",
        "    qubit = UnitGatetwo(qubit,matrix,0,q0)\n",
        "    qubit = UnitGate(qubit,X,0)\n",
        "  else:\n",
        "    qubit = UnitGate(qubit,X,-q1)\n",
        "    qubit = UnitGatetwo(qubit,matrix,-q1,q0)\n",
        "    qubit = UnitGate(qubit,X,-q1)\n",
        "\n",
        "  return qubit\n",
        "\n",
        "\n",
        "# Translation of the i qubit by count into a bit record of size n\n",
        "# Input (n) is the number of qubits, (i) is the number of qubit \n",
        "# output int bit record \n",
        "def inttobit(n, i):\n",
        "  return list(map(int, list(format(i, \"0{0}b\".format(n)))))\n",
        "\n",
        "def powcomplex(complexmatrix):\n",
        "  return (complexmatrix * (complexmatrix.real - 1j*complexmatrix.imag)).real"
      ]
    },
    {
      "cell_type": "code",
      "execution_count": null,
      "metadata": {
        "cellView": "form",
        "id": "x_hVo1SLD19l"
      },
      "outputs": [],
      "source": [
        "#@title\n",
        "n = int(input())\n",
        "q = np.zeros((2**(n)), dtype = 'complex_')\n",
        "q[3] = 1\n",
        "print(q)\n",
        "UnitGatetwo(q,CNOT,1,1)"
      ]
    },
    {
      "cell_type": "markdown",
      "metadata": {
        "id": "zhZyC2bCMtb1"
      },
      "source": [
        "**QFT** \n",
        "\n"
      ]
    },
    {
      "cell_type": "code",
      "execution_count": 4,
      "metadata": {
        "cellView": "form",
        "id": "TmX72ty1133j"
      },
      "outputs": [],
      "source": [
        "#@title\n",
        "def CROT(n):\n",
        "  return np.array([[1,0,0,0],[0,1,0,0],[0,0,1,0],[0,0,0,cmath.exp((1j*cmath.pi)/2**(n-1))]])\n",
        "\n",
        "def CROTminus(n):\n",
        "  return np.array([[1,0,0,0],[0,1,0,0],[0,0,1,0],[0,0,0,cmath.exp((-1j*cmath.pi)/2**(n-1))]])  \n",
        "\n",
        "\n",
        "SWAP = np.array([[1,0,0,0],[0,0,1,0],[0,1,0,0],[0,0,0,1]], dtype = 'complex_')\n",
        "def SWAPQFT(qubit, n):\n",
        "  for i in range(n//2 ):\n",
        "    qubit = UnitGatetwo(qubit, SWAP, i, n-i-1)\n",
        "  return qubit\n",
        "\n",
        "def QFT1(qubit,n):\n",
        "  if n == 0:\n",
        "    return qubit\n",
        "  else:\n",
        "    qubit = UnitGate(qubit,H,n-1)\n",
        "    if n != 1:\n",
        "      for i in range(n-1):\n",
        "        qubit = UnitGatetwo(qubit, CROT(n-i),i ,n-1)\n",
        "    return QFT1(qubit,n-1)\n",
        "\n",
        "def QFT(qubit,n):\n",
        "  return(SWAPQFT(QFT1(qubit,n), n))\n",
        "\n",
        "\n",
        "def ff(qubit, n, k):\n",
        "  if k == n+1:\n",
        "    return qubit\n",
        "  else:\n",
        "    if k != 1:\n",
        "      for i in range(k-1):\n",
        "        qubit = UnitGatetwo(qubit, CROTminus(2+i),k-2-i ,k-1)\n",
        "    qubit = UnitGate(qubit,H,k-1)\n",
        "    return ff(qubit,n,k+1)\n",
        "\n",
        "\n",
        "def inversQFT(qubit,n):\n",
        "  return ff((SWAPQFT(qubit,n)),n,1)"
      ]
    },
    {
      "cell_type": "code",
      "execution_count": null,
      "metadata": {
        "cellView": "form",
        "id": "xt6xBabo5xvb"
      },
      "outputs": [],
      "source": [
        "#@title\n",
        "n = int(input())\n",
        "q = np.zeros((2**(n)),dtype = 'complex_')\n",
        "condition = int(input())\n",
        "q[condition] = 1\n",
        "print(q)\n",
        "qubitQFT = QFT(q,n)\n",
        "print(qubitQFT)\n",
        "print(inversQFT(qubitQFT,n))"
      ]
    },
    {
      "cell_type": "markdown",
      "metadata": {
        "id": "Uv4Ud5L5XQEq"
      },
      "source": [
        "**QPE**"
      ]
    },
    {
      "cell_type": "code",
      "execution_count": 3,
      "metadata": {
        "cellView": "form",
        "id": "_mpAr9zVa5SZ"
      },
      "outputs": [],
      "source": [
        "#@title\n",
        "def Pgate(alphaint):\n",
        "  return np.array([[1,0,0,0],[0,1,0,0],[0,0,1,0],[0,0,0,cmath.exp((1j* cmath.pi)/alphaint)]])\n",
        "\n",
        "def phase_cheat(qubit,alphaint,n):\n",
        "  cycle = 1\n",
        "  for i in range(n):\n",
        "    for j in range(cycle):\n",
        "      qubit = UnitGatetwo(qubit, Pgate(alphaint),i ,n)\n",
        "    cycle = 2 * cycle\n",
        "  return qubit"
      ]
    },
    {
      "cell_type": "markdown",
      "metadata": {
        "id": "ygJWNQW5_J0H"
      },
      "source": [
        "For T - operator\n",
        "\n",
        "output - the general phase of the operator"
      ]
    },
    {
      "cell_type": "code",
      "execution_count": null,
      "metadata": {
        "cellView": "form",
        "id": "FXwFtYL1XWQl"
      },
      "outputs": [],
      "source": [
        "#@title\n",
        "n = int(input())\n",
        "q = np.zeros((2**(n+1)),dtype = 'complex_')\n",
        "q[1<<n] = 1\n",
        "for i in range((n)):\n",
        "  q = UnitGate(q,H, i)\n",
        "\n",
        "# exp(2 * i *pi \\theta ) - operator phase\n",
        "# exp(i*pi / phi )\n",
        "\n",
        "phi = float(input())\n",
        "q2 = phase_cheat(q, phi, n)\n",
        "q3 = powcomplex(inversQFT(q2,n))\n",
        "indexnonzero = np.argmax(q3)\n",
        "bit = (bin(indexnonzero)[3:])\n",
        "print(int(bit,2),'/',2**n)"
      ]
    }
  ],
  "metadata": {
    "colab": {
      "provenance": []
    },
    "kernelspec": {
      "display_name": "Python 3",
      "name": "python3"
    },
    "language_info": {
      "codemirror_mode": {
        "name": "ipython",
        "version": 3
      },
      "file_extension": ".py",
      "mimetype": "text/x-python",
      "name": "python",
      "nbconvert_exporter": "python",
      "pygments_lexer": "ipython3",
      "version": "3.9.1"
    }
  },
  "nbformat": 4,
  "nbformat_minor": 0
}
