{
  "cells": [
    {
      "cell_type": "code",
      "execution_count": 8,
      "metadata": {
        "id": "hDTvv1mru3Xx"
      },
      "outputs": [],
      "source": [
        "#@title\n",
        "import numpy as np\n",
        "import math\n",
        "import cmath\n",
        "from functools import reduce\n",
        "from copy import deepcopy\n",
        "import matplotlib.pyplot as plt"
      ]
    },
    {
      "cell_type": "code",
      "execution_count": 9,
      "metadata": {
        "id": "X_on9ivXwHQh"
      },
      "outputs": [],
      "source": [
        "#@title\n",
        "H = np.array([[1/math.sqrt(2),1/math.sqrt(2)],[1/math.sqrt(2),-1/math.sqrt(2)]], dtype = 'complex_')\n",
        "X = np.array([[0,1],[1,0]], dtype = 'complex_')\n",
        "I = np.array([[1,0],[0,1]], dtype = 'complex_')\n",
        "Z = np.array([[1,0],[0,-1]], dtype = 'complex_')\n",
        "T = np.array([[1,0],[0, cmath.exp((1j*cmath.pi)/4)]], dtype = 'complex_')\n",
        "T_ermit = np.array([[1,0],[0, cmath.exp((-1j*cmath.pi)/4)]], dtype = 'complex_')\n",
        "V = np.array([[1,0,0,0],[0,1,0,0],[0,0,(1+1j)/2,(1-1j)/2],[0,0,(1-1j)/2,(1+1j)/2]], dtype = 'complex_')\n",
        "V_ermit = np.array([[1,0,0,0],[0,1,0,0],[0,0,(1-1j)/2,(1+1j)/2],[0,0,(1+1j)/2,(1-1j)/2]], dtype = 'complex_')\n",
        "CNOT = np.array([[1,0,0,0],[0,1,0,0],[0,0,0,1],[0,0,1,0]], dtype = 'complex_')\n",
        "Zgate = np.array([[1,0,0,0],[0,1,0,0],[0,0,1,0],[0,0,0,-1]], dtype = 'complex_')\n",
        "Toffoli = np.array([[1, 0, 0, 0, 0, 0, 0, 0],\n",
        "           [0, 1, 0, 0, 0, 0, 0, 0],\n",
        "           [0, 0, 1, 0, 0, 0, 0, 0],\n",
        "           [0, 0, 0, 1, 0, 0, 0, 0],\n",
        "           [0, 0, 0, 0, 1, 0, 0, 0],\n",
        "           [0, 0, 0, 0, 0, 1, 0, 0],\n",
        "           [0, 0, 0, 0, 0, 0, 0, 1],\n",
        "           [0, 0, 0, 0, 0, 0, 1, 0]],dtype = 'complex_')\n",
        "\n",
        "\n",
        "\n",
        "\n",
        "def UnitGate(q, matrix, q0):\n",
        "  qubit = deepcopy(q)\n",
        "  q0 = q0-1\n",
        "  for i in range(len(qubit)):\n",
        "    if (i % (1<<(q0+1))) < (1<<(q0)):\n",
        "      r = 0\n",
        "    else:\n",
        "      r = 1\n",
        "    qubit[i] = q[i|(1<<q0)] * matrix[r][1] + q[(i|(1<<q0))^(1<<q0)] * matrix[r][0]\n",
        "  return qubit\n",
        "\n",
        "#if you need to impose some kind of control operation NOT ,\n",
        "# then you need to write (-) and the desired number. \n",
        "\n",
        "def UnitGatetwo(q,matrix,q1,q0):\n",
        "  qubit = deepcopy(q)\n",
        "  if q1 > 0:\n",
        "    q0 = q0-1\n",
        "    q1 = q1-1\n",
        "    for i in range(len(q)):\n",
        "      if (i % (1<<(q0+1))) < (1<<(q0)):\n",
        "        r1 = 0\n",
        "      else:\n",
        "        r1 = 1\n",
        "      if (i %(1<<(q1+1))) < (1<<(q1)):\n",
        "        r2 = 0\n",
        "      else:\n",
        "        r2 = 1\n",
        "      z = 2*r2 +r1\n",
        "      y = (i|(1<<q0))|(1<<q1)\n",
        "      qubit[i] = q[y] * matrix[z][3]  \\\n",
        "      + q[(y)^(1<<q0)] * matrix[z][2] \\\n",
        "      + q[(y)^(1<<q1)] * matrix[z][1] \\\n",
        "      + q[((y)^(1<<q1))^(1<<q0)] * matrix[z][0]\n",
        "  elif q1 <0:\n",
        "    q1 = -q1\n",
        "    qubit = UnitGate(qubit,X,q1)\n",
        "    qubit = UnitGatetwo(qubit,matrix,q1,q0)\n",
        "    qubit = UnitGate(qubit,X,q1)\n",
        "  else:\n",
        "    print('break q1 = 0')\n",
        "\n",
        "  return qubit\n",
        "\n",
        "def UnitGatethree(qubit, matrix, q2, q1, q0):\n",
        "    q = deepcopy(qubit)\n",
        "    if q2 > 0 and q1 > 0:\n",
        "      q0 = q0 - 1\n",
        "      q2 = q2 - 1\n",
        "      q1 = q1 - 1\n",
        "      for i in range(len(q)):\n",
        "          if (i % (1 << (q0 + 1))) < (1 << q0):\n",
        "              r1 = 0\n",
        "          else:\n",
        "              r1 = 1\n",
        "          if (i % (1 << (q1 + 1))) < (1 << q1):\n",
        "              r2 = 0\n",
        "          else:\n",
        "              r2 = 1\n",
        "          if (i % (1 << (q2 + 1))) < (1 << q2):\n",
        "              r3 = 0\n",
        "          else:\n",
        "              r3 = 1\n",
        "          z = 4*r3+2*r2+r1\n",
        "          y =(i|(1<<q0))|(1<<q1)|(1<<q2)\n",
        "          q[i] = qubit[y]*matrix[z][7] \\\n",
        "          + qubit[(y)^(1<<q0)]*matrix[z][6] \\\n",
        "          + qubit[(y)^(1<<q1)]*matrix[z][5] \\\n",
        "          + qubit[(y)^(1<<q0)^(1<<q1)]*matrix[z][4] \\\n",
        "          + qubit[(y)^(1<<q2)]*matrix[z][3] \\\n",
        "          + qubit[(y)^(1<<q0)^(1<<q2)]*matrix[z][2] \\\n",
        "          + qubit[(y)^(1<<q1)^(1<<q2)]*matrix[z][1] \\\n",
        "          + qubit[(y)^(1<<q1)^(1<<q2)^(1<<q0)]*matrix[z][0]\n",
        "    elif q2 < 0:\n",
        "      q2 = -q2\n",
        "      q = UnitGate(q,X,q2)\n",
        "      q = UnitGatethree(q,matrix, q2,q1,q0)\n",
        "      q = UnitGate(q,X,q2)\n",
        "    elif q1 < 0:\n",
        "      q1 = -q1\n",
        "      q = UnitGate(q,X,q1)\n",
        "      q = UnitGatethree(q,matrix, q2, q1,q0)\n",
        "      q = UnitGate(q,X,q1)\n",
        "    else:\n",
        "      print('break q1 = 0')\n",
        "\n",
        "    return q\n",
        "# Translation of the i qubit by count into a bit record of size n\n",
        "# Input (n) is the number of qubits, (i) is the number of qubits \n",
        "# int output bit entry\n",
        "def inttobit(n, i):\n",
        "  return list(map(int, list(format(i, \"0{0}b\".format(n)))))\n",
        "\n",
        "def powcomplex(complexmatrix):\n",
        "  return (complexmatrix * (complexmatrix.real - 1j*complexmatrix.imag)).real"
      ]
    },
    {
      "cell_type": "code",
      "execution_count": 10,
      "metadata": {
        "id": "XJgb0awT9ecL"
      },
      "outputs": [],
      "source": [
        "#qubit - the entire qubit vector\n",
        "#maxdop- the maximum number of additional qubits required to implement an n-gate operation\n",
        "#nstart - the number of qubits without additional\n",
        "#N - how many qubit operation, for toffoli = 3, for CNOT = 2\n",
        "#matrix - controlled matrix\n",
        "#*args - all arguments that are affected, the last controlled\n",
        "def CnNOT(qubit,maxdop,nstart,N,matrix,*args):\n",
        "  qubit = UnitGatethree(qubit,Toffoli,args[0],args[1],nstart+1)\n",
        "  for i in range(N-3):\n",
        "    qubit = UnitGatethree(qubit,Toffoli,args[2+i],nstart+1+i,nstart+i+2)\n",
        "  qubit = UnitGatetwo(qubit,matrix,nstart+maxdop,args[-1])\n",
        "  for i in range((N-2),1,-1):\n",
        "    qubit = UnitGatethree(qubit,Toffoli,args[i],nstart+i-1,nstart+i)\n",
        "  qubit = UnitGatethree(qubit,Toffoli,args[0],args[1],nstart+1)\n",
        "  return qubit  "
      ]
    },
    {
      "attachments": {},
      "cell_type": "markdown",
      "metadata": {
        "id": "oi6ZyufZrb8F"
      },
      "source": [
        "**Grover 's algorithm**"
      ]
    },
    {
      "cell_type": "code",
      "execution_count": 13,
      "metadata": {
        "id": "bsvfl1gwre_-"
      },
      "outputs": [],
      "source": [
        "#@title\n",
        "#qubit - initial qubits\n",
        "#n - initial number of qubits\n",
        "#step - number of steps\n",
        "#*args - multiple lists of the form(1, 2, -3, 6), where the last one is a controlled qubit, the others are controlling.responsible for every step\n",
        "def oraclsatproblem(qubit,n,step, *args):\n",
        "  for i in range(step):\n",
        "    if len(args[i]) == 2:\n",
        "      qubit = UnitGatetwo(qubit,CNOT,args[i][0], n+i+1)\n",
        "    elif len(args[i]) == 3:\n",
        "      qubit = UnitGatethree(qubit,Toffoli, args[i][0], args[i][1], n+i+1)\n",
        "    else:\n",
        "      qubit = CnNOT(qubit,len(args[i])-2,n+1+step,len(args[i]),CNOT,*args[i])\n",
        "\n",
        "  if step == 1:\n",
        "    qubit = UnitGatetwo(qubit,CNOT,-(n+1),n+2)\n",
        "    qubit = UnitGate(qubit,Z,n+step+1)\n",
        "    qubit = UnitGatetwo(qubit,CNOT,-(n+1),n+2)\n",
        "  elif step == 2:\n",
        "    qubit = UnitGatethree(qubit,Toffoli,-(n+1),-(n+2),n+3)\n",
        "    qubit = UnitGate(qubit,Z,n+step+1)\n",
        "    qubit = UnitGatethree(qubit,Toffoli,-(n+1),-(n+2),n+3)\n",
        "  else:\n",
        "    qubit = CnNOT(qubit,step-1,n+step+1,step+1,CNOT,*[-(i+1) for i in range(n,n+step)],n+step+1)\n",
        "    qubit = UnitGate(qubit,Z,n+step+1)\n",
        "    qubit = CnNOT(qubit,step-1,n+step+1,step+1,CNOT,*[-(i+1) for i in range(n,n+step)],n+step+1)\n",
        "\n",
        "  for i in range(step-1,-1,-1):\n",
        "    if len(args[i]) == 2:\n",
        "      qubit = UnitGatetwo(qubit,CNOT,args[i][0], n+i+1)\n",
        "    elif len(args[i]) == 3:\n",
        "      qubit = UnitGatethree(qubit,Toffoli, args[i][0], args[i][1], n+i+1)\n",
        "    else:\n",
        "      qubit = CnNOT(qubit,len(args[i])-2,n+1+step,len(args[i]),CNOT,*args[i])\n",
        "  return qubit\n",
        "\n",
        "\n",
        "def diffuzer(qubit,n):\n",
        "  if n == 2:\n",
        "    qubit = UnitGate(qubit,H,1)\n",
        "    qubit = UnitGatetwo(qubit,CNOT,1,2)\n",
        "    qubit = UnitGate(qubit,H,1)\n",
        "  if n == 3:\n",
        "    qubit = UnitGate(qubit,H,1)\n",
        "    qubit = UnitGate(qubit,H,2)\n",
        "    qubit = UnitGatethree(qubit,Toffoli,1,2,3)\n",
        "    qubit = UnitGate(qubit,H,1)\n",
        "    qubit = UnitGate(qubit,H,2)\n",
        "  if n >= 4:\n",
        "    for j in range(n-1):\n",
        "      qubit = UnitGate(qubit,H,j+1)\n",
        "    qubit = CnNOT(qubit,n-2,n+step+1,n,CNOT,*[(i+1) for i in range(n)])\n",
        "    for j in range(n-1):\n",
        "      qubit = UnitGate(qubit,H,j+1)\n",
        "  return qubit\n",
        "\n",
        "def musor(qubit,n,step, *args):\n",
        "  for i in range(step):\n",
        "    if len(args[i]) == 2:\n",
        "      qubit = UnitGatetwo(qubit,CNOT,args[i][0], n+i+1)\n",
        "    elif len(args[i]) == 3:\n",
        "      qubit = UnitGatethree(qubit,Toffoli, args[i][0], args[i][1], n+i+1)\n",
        "    else:\n",
        "      qubit = CnNOT(qubit,len(args[i])-2,n+1+step,len(args[i]),CNOT,*args[i])\n",
        "  if step == 1:\n",
        "    qubit = UnitGatetwo(qubit,CNOT,-(n+1),n+2)\n",
        "    qubit = UnitGate(qubit,Z,n+step+1)\n",
        "    qubit = UnitGatetwo(qubit,CNOT,-(n+1),n+2)\n",
        "  elif step == 2:\n",
        "    qubit = UnitGatethree(qubit,Toffoli,-(n+1),-(n+2),n+3)\n",
        "    qubit = UnitGate(qubit,Z,n+step+1)\n",
        "    qubit = UnitGatethree(qubit,Toffoli,-(n+1),-(n+2),n+3)\n",
        "  else:\n",
        "    qubit = CnNOT(qubit,step-1,n+step+1,step+1,CNOT,*[-(i+1) for i in range(n,n+step)],n+step+1)\n",
        "  return qubit\n",
        "\n",
        "def Groversonecirc(q,n,step, *args):\n",
        "  for i in range(n):\n",
        "    q = UnitGate(q,X,i+1)\n",
        "    q = UnitGate(q,H,i+1)\n",
        "  for i in range(round(math.sqrt(n))+1):\n",
        "    q = oraclsatproblem(q,n,step, *args)\n",
        "    q = diffuzer(q,n)\n",
        "  q = musor(q,n,step, *args)\n",
        "  return q"
      ]
    },
    {
      "attachments": {},
      "cell_type": "markdown",
      "metadata": {
        "id": "CMWhK8OhROFA"
      },
      "source": [
        "The SAT problem\n",
        "\n",
        "n is the number of initial qubits (the number of variables in the sat problem)\n",
        "\n",
        "step - number of steps \n",
        "\n",
        "maxstep is the largest gate (the number of qubits participating in this gate)\n",
        "\n",
        "Set the steps in the code itself!"
      ]
    },
    {
      "cell_type": "code",
      "execution_count": 14,
      "metadata": {
        "colab": {
          "base_uri": "https://localhost:8080/"
        },
        "id": "snPZZRk00eo-",
        "outputId": "9787c4b5-72a8-41ba-ba8f-dc214fb62865"
      },
      "outputs": [
        {
          "name": "stdout",
          "output_type": "stream",
          "text": [
            "[0, 1, 0, 0]\n",
            "[1, 0, 1, 0]\n",
            "[0, 1, 1, 0]\n",
            "[0, 0, 0, 1]\n",
            "[1, 0, 0, 1]\n",
            "[1, 1, 1, 1]\n"
          ]
        }
      ],
      "source": [
        "n = int(input())\n",
        "step = int(input())\n",
        "maxstep = int(input())\n",
        "q = np.zeros((2**(n+step+maxstep-1)), dtype = 'complex_')\n",
        "q[0] = 1\n",
        "l1 = [1,3,4,n+step+1]\n",
        "l2 = [-2,-3,4,n+step+1]\n",
        "l3 = [-1,2,-4,n+step+1]\n",
        "l4 = [1,-2,3,n+step+1]\n",
        "q = Groversonecirc(q,n,step, l1,l2,l3,l4)\n",
        "pow1 = powcomplex(q)\n",
        "pow2 = np.where(pow1 > 0.01)\n",
        "pow3 = pow2[0]\n",
        "for i in range(len(pow3)):\n",
        "  print((inttobit(n+step+1+maxstep-2,pow3[i]))[:maxstep-2+step:-1])"
      ]
    },
    {
      "attachments": {},
      "cell_type": "markdown",
      "metadata": {
        "id": "sPIP-SRy5NA5"
      },
      "source": [
        "Checking for sat issues"
      ]
    },
    {
      "cell_type": "code",
      "execution_count": 100,
      "metadata": {
        "colab": {
          "base_uri": "https://localhost:8080/"
        },
        "id": "fMicZkakVgPa",
        "outputId": "7ada2e8f-8b45-45d6-fc4c-1ca36d124dd9"
      },
      "outputs": [
        {
          "name": "stdout",
          "output_type": "stream",
          "text": [
            "0 0 0 1\n",
            "0 1 0 0\n",
            "0 1 1 0\n",
            "1 1 1 1\n"
          ]
        }
      ],
      "source": [
        "for x1 in range(2):\n",
        "  for x2 in range(2):\n",
        "    for x3 in range(2):\n",
        "      for x4 in range(2):\n",
        "        k = ((not x1) | (not x3) | (not x4)) ^ ((x2)|(x3)|(not x4)) ^((x1)|(not x2)|(x4)) ^((not x1)|(x2)|(not x4))\n",
        "        if k == 1:\n",
        "          print(x1,x2,x3,x4)\n"
      ]
    }
  ],
  "metadata": {
    "colab": {
      "provenance": []
    },
    "kernelspec": {
      "display_name": "Python 3",
      "name": "python3"
    },
    "language_info": {
      "codemirror_mode": {
        "name": "ipython",
        "version": 3
      },
      "file_extension": ".py",
      "mimetype": "text/x-python",
      "name": "python",
      "nbconvert_exporter": "python",
      "pygments_lexer": "ipython3",
      "version": "3.9.1"
    }
  },
  "nbformat": 4,
  "nbformat_minor": 0
}
