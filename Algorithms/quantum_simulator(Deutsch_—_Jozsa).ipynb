{
  "nbformat": 4,
  "nbformat_minor": 0,
  "metadata": {
    "colab": {
      "provenance": []
    },
    "kernelspec": {
      "name": "python3",
      "display_name": "Python 3"
    },
    "language_info": {
      "name": "python"
    }
  },
  "cells": [
    {
      "cell_type": "markdown",
      "source": [
        "Importing the necessary packages"
      ],
      "metadata": {
        "id": "FnLD0vMF1lsL"
      }
    },
    {
      "cell_type": "code",
      "source": [
        "import numpy as np\n",
        "import math\n",
        "from functools import reduce\n",
        "from copy import deepcopy"
      ],
      "metadata": {
        "id": "slnSZ7N8EwCw"
      },
      "execution_count": null,
      "outputs": []
    },
    {
      "cell_type": "markdown",
      "source": [
        "****Necessary functions of the quantum simulator**"
      ],
      "metadata": {
        "id": "hKet8ClaB_E6"
      }
    },
    {
      "cell_type": "markdown",
      "source": [
        "The basis of the qubit system"
      ],
      "metadata": {
        "id": "itbiTDjsEQtz"
      }
    },
    {
      "cell_type": "code",
      "source": [
        "qubit01 = {0: np.array([1 , 0 ]),1: np.array([0 , 1])}"
      ],
      "metadata": {
        "id": "sPS7r2F-mYVR"
      },
      "execution_count": null,
      "outputs": []
    },
    {
      "cell_type": "markdown",
      "source": [
        "Tensor of the qubit system"
      ],
      "metadata": {
        "id": "ZbD2qJdeJG1I"
      }
    },
    {
      "cell_type": "code",
      "source": [
        "#translation of the qubit system into a common vector\n",
        "#input(list) - list of qubits(0 or 1)\n",
        "def tensorqubit(list):\n",
        "  q = reduce((lambda x,y: np.kron(x,y)), list)\n",
        "  return q"
      ],
      "metadata": {
        "id": "XoecOguCJGH6"
      },
      "execution_count": null,
      "outputs": []
    },
    {
      "cell_type": "markdown",
      "source": [
        "Hadamard + NOT + INOT (You can still add a complex one and still lead NOTs)"
      ],
      "metadata": {
        "id": "vdf3ytmYFGxN"
      }
    },
    {
      "cell_type": "code",
      "source": [
        "H = np.array([[1/math.sqrt(2),1/math.sqrt(2)],[1/math.sqrt(2),-1/math.sqrt(2)]])\n",
        "X = np.array([[0,1],[1,0]])\n",
        "I = np.array([[1,0],[0,1]])"
      ],
      "metadata": {
        "id": "xekqI7DhFJIh"
      },
      "execution_count": null,
      "outputs": []
    },
    {
      "cell_type": "markdown",
      "source": [
        "i the number of the qubit in a bit record of size n"
      ],
      "metadata": {
        "id": "Z1GIc8kAEJIb"
      }
    },
    {
      "cell_type": "code",
      "source": [
        "# Translation of the i qubit by count into a bit record of size n\n",
        "# Input (n) is the number of qubits, (i) is the number of qubits \n",
        "# int output bit entry\n",
        "def inttobit(n, i):\n",
        "    return list(map(int, list(format(i, \"0{0}b\".format(n)))))"
      ],
      "metadata": {
        "id": "a_YyQ0vBiuIN"
      },
      "execution_count": null,
      "outputs": []
    },
    {
      "cell_type": "markdown",
      "source": [
        "CNOT function for the n qubit system (controlling, controlled, n qubit){for toffoli, you still need to write a loop inside}"
      ],
      "metadata": {
        "id": "XDE0vmYdEcuj"
      }
    },
    {
      "cell_type": "code",
      "source": [
        "# Finds the CNOT matrix in the n qubit system\n",
        "# Input: (q1) is the number of the controlling qubit, (q2) is the number of the controlled qubit, (n) is the total qubit in the system  \n",
        "# Output is a 4*4 matrix (so far without the complex part)\n",
        "def CNOT(q1, q2, n):\n",
        "  matrixCNOT = np.zeros((2 ** n, 2 ** n))\n",
        "  for i in range(2 ** n):\n",
        "    binary = inttobit(n, i)\n",
        "    matrixCNOT[:, i] =reduce(np.kron, [\n",
        "        [qubit01[k]] if j != q2 else qubit01[((binary[q1 - 1])^ (binary[q2 - 1]))] \\\n",
        "        for j, k in enumerate(binary, start=1)])\n",
        "  return matrixCNOT"
      ],
      "metadata": {
        "id": "CEsweki7Bz22"
      },
      "execution_count": null,
      "outputs": []
    },
    {
      "cell_type": "markdown",
      "source": [
        "**DEUTSCH - JOZSA**"
      ],
      "metadata": {
        "id": "U9dQcJ7qB1nP"
      }
    },
    {
      "cell_type": "markdown",
      "source": [
        "**New required features**"
      ],
      "metadata": {
        "id": "lqZ0911r8aFG"
      }
    },
    {
      "cell_type": "markdown",
      "source": [
        "the function of the i step, but through the sheet (there were problems translating tuple, so I had to change the function a little)"
      ],
      "metadata": {
        "id": "SfKVbmulwhHP"
      }
    },
    {
      "cell_type": "code",
      "source": [
        "# Finds the matrix of unitary operators of the i-th step\n",
        "# Input - A list of unitary operators in this step (List)\n",
        "# The output is the matrix of such a step n**2 * n**2\n",
        "def UnitStep(list):\n",
        "  Step_i = reduce((lambda x,y: np.kron(x,y)), list)\n",
        "  return Step_i"
      ],
      "metadata": {
        "id": "mDZCx47HqMUg"
      },
      "execution_count": null,
      "outputs": []
    },
    {
      "cell_type": "markdown",
      "source": [
        "функция цепи, но через лист(возникли проблемы перевода tuple поэтому пришлось поменять чуть функцию)"
      ],
      "metadata": {
        "id": "YiRfKLKsxw2R"
      }
    },
    {
      "cell_type": "code",
      "source": [
        "# Transformation of the qubit system after the gate chain\n",
        "# # Input (Steps number) - the number of steps in the chain, (qubitsstart) - the initial state of the qubit,(list) - the list of the general transformation matrix at the i-th step\n",
        "# Output - The state of the qubits after passing the chain (vector n**2)\n",
        "def Chainqubit(qubitsstart, list):\n",
        "  for i in range(len(list)):\n",
        "    qubitsstart = list[i].dot(qubitsstart)\n",
        "  return qubitsstart"
      ],
      "metadata": {
        "id": "boyalr4ixqQM"
      },
      "execution_count": null,
      "outputs": []
    },
    {
      "cell_type": "markdown",
      "source": [
        "Functions of the Deutsch-Joj algorithm (balanced and constant)"
      ],
      "metadata": {
        "id": "7PW5d5aoabPU"
      }
    },
    {
      "cell_type": "code",
      "source": [
        "def balanceOracul(n):\n",
        "\n",
        "  randombalance = np.random.randint(1,2**n)\n",
        "  randombalancebit = inttobit(n, randombalance)\n",
        "  XNOTCHAIN = []\n",
        "  CNOTCHAIN = []\n",
        "  CHAINORACULE = []\n",
        "  for i in range(n):\n",
        "    if randombalancebit[i] == 1:\n",
        "      XNOTCHAIN.append(X)\n",
        "    else:\n",
        "      XNOTCHAIN.append(I)\n",
        "  XNOTCHAIN.append(I)\n",
        "  CHAINORACULE.append(UnitStep(XNOTCHAIN))\n",
        "  for j in range(n):\n",
        "    CHAINORACULE.append(CNOT(n - j,n+1,n+1))\n",
        "  \n",
        "  CHAINORACULE.append(UnitStep(XNOTCHAIN))\n",
        "\n",
        "  return CHAINORACULE\n",
        "\n",
        "def constant(n):\n",
        "  randomconst = np.random.randint(2)\n",
        "  const=[]\n",
        "  for i in range(n):\n",
        "    const.append(I)\n",
        "  if randomconst == 1:\n",
        "    const.append(X)\n",
        "  else:\n",
        "    const.append(I)\n",
        "  return UnitStep(const)\n",
        "    \n"
      ],
      "metadata": {
        "id": "gwm6Ca7y_ckM"
      },
      "execution_count": null,
      "outputs": []
    },
    {
      "cell_type": "markdown",
      "source": [
        "n hadamard gates"
      ],
      "metadata": {
        "id": "sUD38Kdq8yXx"
      }
    },
    {
      "cell_type": "code",
      "source": [
        "def Hn(n):\n",
        "  H_n = []\n",
        "  for i  in range(n):\n",
        "    H_n.append(H)\n",
        "  return UnitStep(H_n)"
      ],
      "metadata": {
        "id": "kXPbUpUs92LJ"
      },
      "execution_count": null,
      "outputs": []
    },
    {
      "cell_type": "markdown",
      "source": [
        "Setting the number of qubits"
      ],
      "metadata": {
        "id": "CbGlR17UaM2l"
      }
    },
    {
      "cell_type": "code",
      "source": [
        "n = int(input())\n",
        "m1 = np.array([1, 0])\n",
        "m2 = np.array([0, 1])\n",
        "systemQubit = []\n",
        "for i in range(n):\n",
        "  systemQubit.append(m1)\n",
        "systemQubit.append(m2)\n",
        "systemQubit"
      ],
      "metadata": {
        "colab": {
          "base_uri": "https://localhost:8080/"
        },
        "id": "VgGiqgVhU17J",
        "outputId": "da5825a3-bf60-4141-8c08-395cc9899089"
      },
      "execution_count": null,
      "outputs": [
        {
          "name": "stdout",
          "output_type": "stream",
          "text": [
            "3\n"
          ]
        },
        {
          "output_type": "execute_result",
          "data": {
            "text/plain": [
              "[array([1, 0]), array([1, 0]), array([1, 0]), array([0, 1])]"
            ]
          },
          "metadata": {},
          "execution_count": 13
        }
      ]
    },
    {
      "cell_type": "markdown",
      "source": [
        "common vector qubit"
      ],
      "metadata": {
        "id": "IpMuZWCkaUgo"
      }
    },
    {
      "cell_type": "code",
      "source": [
        "qubit = tensorqubit(systemQubit)"
      ],
      "metadata": {
        "id": "f9V3_ps2_HJq"
      },
      "execution_count": null,
      "outputs": []
    },
    {
      "cell_type": "markdown",
      "source": [
        "Sets the finished chain. For balanced - balance, for constant - const"
      ],
      "metadata": {
        "id": "TWFL4kVu9PaJ"
      }
    },
    {
      "cell_type": "code",
      "source": [
        "FullChain = []\n",
        "FullChain.append(Hn(n+1))\n",
        "indicator = input()\n",
        "if indicator == 'balance':\n",
        "  Oracul = balanceOracul(n)\n",
        "  for i in range(2+n):\n",
        "    FullChain.append(Oracul[i])\n",
        "if indicator == 'const':\n",
        "  Oracul = constant(n)\n",
        "  FullChain.append(Oracul)\n",
        "FullChain.append(np.kron(Hn(n),I))"
      ],
      "metadata": {
        "colab": {
          "base_uri": "https://localhost:8080/"
        },
        "id": "Y5yuohyV-NEi",
        "outputId": "4bdae71f-c3d8-4513-f754-71f21e833861"
      },
      "execution_count": null,
      "outputs": [
        {
          "name": "stdout",
          "output_type": "stream",
          "text": [
            "balance\n"
          ]
        }
      ]
    },
    {
      "cell_type": "markdown",
      "source": [
        "Outputs the result (balanced or constant){then you need to implement the black box in a more interesting way}"
      ],
      "metadata": {
        "id": "8268xfYy_Kpw"
      }
    },
    {
      "cell_type": "code",
      "source": [
        "o = Chainqubit(qubit, FullChain)\n",
        "o = o*o\n",
        "indexnonzero = np.where(o > 0.001)\n",
        "print((bin(indexnonzero[0][0])[2:].zfill(n+1))[:n])\n",
        "print((bin(indexnonzero[0][1])[2:].zfill(n+1))[:n])"
      ],
      "metadata": {
        "colab": {
          "base_uri": "https://localhost:8080/"
        },
        "id": "wNBoawbN_Hw7",
        "outputId": "c9139c33-fd9e-4bb5-a503-15af163169cd"
      },
      "execution_count": null,
      "outputs": [
        {
          "output_type": "stream",
          "name": "stdout",
          "text": [
            "111\n",
            "111\n",
            "[1, 1, 1, 0]\n",
            "[1, 1, 1, 1]\n"
          ]
        }
      ]
    },
    {
      "cell_type": "markdown",
      "source": [
        "If the first n qubits = 0 => constant"
      ],
      "metadata": {
        "id": "6uduYxkuCAEn"
      }
    },
    {
      "cell_type": "markdown",
      "source": [
        "If the first n qubits = 1 => Balanced"
      ],
      "metadata": {
        "id": "qWIyI53PCIPP"
      }
    },
    {
      "cell_type": "markdown",
      "source": [
        "**"
      ],
      "metadata": {
        "id": "gEpn-mt5CthA"
      }
    }
  ]
}